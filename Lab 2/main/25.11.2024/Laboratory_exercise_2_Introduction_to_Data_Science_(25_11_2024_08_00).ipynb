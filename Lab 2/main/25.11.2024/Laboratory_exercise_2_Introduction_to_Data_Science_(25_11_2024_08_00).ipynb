{
 "cells": [
  {
   "cell_type": "markdown",
   "metadata": {
    "id": "rODb9vHvIEbp"
   },
   "source": [
    "# Requirements"
   ]
  },
  {
   "cell_type": "code",
   "execution_count": 15,
   "metadata": {
    "id": "U4KmHBd2cdx9"
   },
   "outputs": [],
   "source": [
    "# Add as many imports as you need.\n",
    "import pandas as pd\n",
    "import matplotlib as plt\n",
    "import seaborn as sns\n",
    "from sklearn.preprocessing import MinMaxScaler, LabelEncoder"
   ]
  },
  {
   "cell_type": "markdown",
   "metadata": {
    "id": "KNMMoUiUIW3L"
   },
   "source": [
    "# Laboratory Exercise - Run Mode (8 points)"
   ]
  },
  {
   "cell_type": "markdown",
   "metadata": {
    "id": "zBYI-EypaWom"
   },
   "source": [
    "## The Vacation Preferences Dataset\n",
    "The dataset contains information about individuals and their vacation preferences. It includes details such as age, gender, income, and education level. It also provides insights into their vacation habits, like the number of vacations taken each year, preferred activities (such as hiking, swimming, skiing, or sunbathing), and their budget for vacations. Other information includes the type of place they live in (urban, suburban, or rural), how far they live from mountains and beaches, and their favorite season for vacations (summer, winter, spring, or fall). The dataset also contains information whether they have pets and if they are concerned about the environment. All these features serve as input variables for predictive modeling. The 'Preference' attribute serves as the target variable, where 1 represents preference for mountains, 0 for beaches."
   ]
  },
  {
   "cell_type": "markdown",
   "metadata": {
    "id": "DCm1qm1mZwMr"
   },
   "source": [
    "Load the dataset into a `pandas` data frame."
   ]
  },
  {
   "cell_type": "code",
   "execution_count": 22,
   "metadata": {
    "id": "KMOn4fgcZn8s"
   },
   "outputs": [
    {
     "data": {
      "text/plain": [
       "Index(['Age', 'Gender', 'Income', 'Education_Level', 'Travel_Frequency',\n",
       "       'Preferred_Activities', 'Vacation_Budget', 'Location',\n",
       "       'Proximity_to_Mountains', 'Proximity_to_Beaches', 'Favorite_Season',\n",
       "       'Pets', 'Environmental_Concerns', 'Preference'],\n",
       "      dtype='object')"
      ]
     },
     "execution_count": 22,
     "metadata": {},
     "output_type": "execute_result"
    }
   ],
   "source": [
    "# Write your code here. Add as many boxes as you need.\n",
    "data = pd.read_csv(r'C:\\Users\\1\\Desktop\\python_wnp\\vacation_preferences_data.csv')\n",
    "data.columns"
   ]
  },
  {
   "cell_type": "code",
   "execution_count": 17,
   "metadata": {
    "id": "7yVjyyL-SENC"
   },
   "outputs": [
    {
     "ename": "SyntaxError",
     "evalue": "invalid syntax (3870822964.py, line 1)",
     "output_type": "error",
     "traceback": [
      "\u001b[1;36m  Cell \u001b[1;32mIn[17], line 1\u001b[1;36m\u001b[0m\n\u001b[1;33m    Preprocess the input and the output variables appropriately.\u001b[0m\n\u001b[1;37m               ^\u001b[0m\n\u001b[1;31mSyntaxError\u001b[0m\u001b[1;31m:\u001b[0m invalid syntax\n"
     ]
    }
   ],
   "source": [
    "Preprocess the input and the output variables appropriately."
   ]
  },
  {
   "cell_type": "code",
   "execution_count": 30,
   "metadata": {
    "id": "VFMBXEUkSD5V"
   },
   "outputs": [
    {
     "data": {
      "text/html": [
       "<div>\n",
       "<style scoped>\n",
       "    .dataframe tbody tr th:only-of-type {\n",
       "        vertical-align: middle;\n",
       "    }\n",
       "\n",
       "    .dataframe tbody tr th {\n",
       "        vertical-align: top;\n",
       "    }\n",
       "\n",
       "    .dataframe thead th {\n",
       "        text-align: right;\n",
       "    }\n",
       "</style>\n",
       "<table border=\"1\" class=\"dataframe\">\n",
       "  <thead>\n",
       "    <tr style=\"text-align: right;\">\n",
       "      <th></th>\n",
       "      <th>Age</th>\n",
       "      <th>Gender</th>\n",
       "      <th>Income</th>\n",
       "      <th>Education_Level</th>\n",
       "      <th>Travel_Frequency</th>\n",
       "      <th>Preferred_Activities</th>\n",
       "      <th>Vacation_Budget</th>\n",
       "      <th>Location</th>\n",
       "      <th>Proximity_to_Mountains</th>\n",
       "      <th>Proximity_to_Beaches</th>\n",
       "      <th>Favorite_Season</th>\n",
       "      <th>Pets</th>\n",
       "      <th>Environmental_Concerns</th>\n",
       "      <th>Preference</th>\n",
       "    </tr>\n",
       "  </thead>\n",
       "  <tbody>\n",
       "    <tr>\n",
       "      <th>0</th>\n",
       "      <td>56.0</td>\n",
       "      <td>1</td>\n",
       "      <td>71477</td>\n",
       "      <td>0</td>\n",
       "      <td>9</td>\n",
       "      <td>1</td>\n",
       "      <td>2477</td>\n",
       "      <td>2</td>\n",
       "      <td>175.0</td>\n",
       "      <td>267</td>\n",
       "      <td>2</td>\n",
       "      <td>0</td>\n",
       "      <td>1</td>\n",
       "      <td>1</td>\n",
       "    </tr>\n",
       "    <tr>\n",
       "      <th>1</th>\n",
       "      <td>69.0</td>\n",
       "      <td>1</td>\n",
       "      <td>88740</td>\n",
       "      <td>3</td>\n",
       "      <td>1</td>\n",
       "      <td>3</td>\n",
       "      <td>4777</td>\n",
       "      <td>1</td>\n",
       "      <td>NaN</td>\n",
       "      <td>190</td>\n",
       "      <td>0</td>\n",
       "      <td>0</td>\n",
       "      <td>1</td>\n",
       "      <td>0</td>\n",
       "    </tr>\n",
       "    <tr>\n",
       "      <th>2</th>\n",
       "      <td>46.0</td>\n",
       "      <td>0</td>\n",
       "      <td>46562</td>\n",
       "      <td>3</td>\n",
       "      <td>0</td>\n",
       "      <td>1</td>\n",
       "      <td>1469</td>\n",
       "      <td>2</td>\n",
       "      <td>71.0</td>\n",
       "      <td>280</td>\n",
       "      <td>3</td>\n",
       "      <td>0</td>\n",
       "      <td>0</td>\n",
       "      <td>1</td>\n",
       "    </tr>\n",
       "    <tr>\n",
       "      <th>3</th>\n",
       "      <td>32.0</td>\n",
       "      <td>2</td>\n",
       "      <td>99044</td>\n",
       "      <td>2</td>\n",
       "      <td>6</td>\n",
       "      <td>0</td>\n",
       "      <td>1482</td>\n",
       "      <td>0</td>\n",
       "      <td>31.0</td>\n",
       "      <td>255</td>\n",
       "      <td>2</td>\n",
       "      <td>1</td>\n",
       "      <td>0</td>\n",
       "      <td>1</td>\n",
       "    </tr>\n",
       "    <tr>\n",
       "      <th>4</th>\n",
       "      <td>60.0</td>\n",
       "      <td>0</td>\n",
       "      <td>106583</td>\n",
       "      <td>2</td>\n",
       "      <td>5</td>\n",
       "      <td>2</td>\n",
       "      <td>516</td>\n",
       "      <td>1</td>\n",
       "      <td>23.0</td>\n",
       "      <td>151</td>\n",
       "      <td>3</td>\n",
       "      <td>1</td>\n",
       "      <td>1</td>\n",
       "      <td>0</td>\n",
       "    </tr>\n",
       "    <tr>\n",
       "      <th>...</th>\n",
       "      <td>...</td>\n",
       "      <td>...</td>\n",
       "      <td>...</td>\n",
       "      <td>...</td>\n",
       "      <td>...</td>\n",
       "      <td>...</td>\n",
       "      <td>...</td>\n",
       "      <td>...</td>\n",
       "      <td>...</td>\n",
       "      <td>...</td>\n",
       "      <td>...</td>\n",
       "      <td>...</td>\n",
       "      <td>...</td>\n",
       "      <td>...</td>\n",
       "    </tr>\n",
       "    <tr>\n",
       "      <th>52439</th>\n",
       "      <td>67.0</td>\n",
       "      <td>0</td>\n",
       "      <td>85325</td>\n",
       "      <td>3</td>\n",
       "      <td>3</td>\n",
       "      <td>0</td>\n",
       "      <td>1762</td>\n",
       "      <td>1</td>\n",
       "      <td>51.0</td>\n",
       "      <td>262</td>\n",
       "      <td>0</td>\n",
       "      <td>1</td>\n",
       "      <td>0</td>\n",
       "      <td>1</td>\n",
       "    </tr>\n",
       "    <tr>\n",
       "      <th>52440</th>\n",
       "      <td>37.0</td>\n",
       "      <td>0</td>\n",
       "      <td>110346</td>\n",
       "      <td>0</td>\n",
       "      <td>7</td>\n",
       "      <td>3</td>\n",
       "      <td>1676</td>\n",
       "      <td>2</td>\n",
       "      <td>259.0</td>\n",
       "      <td>84</td>\n",
       "      <td>1</td>\n",
       "      <td>1</td>\n",
       "      <td>0</td>\n",
       "      <td>0</td>\n",
       "    </tr>\n",
       "    <tr>\n",
       "      <th>52441</th>\n",
       "      <td>53.0</td>\n",
       "      <td>2</td>\n",
       "      <td>71080</td>\n",
       "      <td>1</td>\n",
       "      <td>7</td>\n",
       "      <td>3</td>\n",
       "      <td>3877</td>\n",
       "      <td>2</td>\n",
       "      <td>NaN</td>\n",
       "      <td>27</td>\n",
       "      <td>0</td>\n",
       "      <td>0</td>\n",
       "      <td>1</td>\n",
       "      <td>0</td>\n",
       "    </tr>\n",
       "    <tr>\n",
       "      <th>52442</th>\n",
       "      <td>40.0</td>\n",
       "      <td>0</td>\n",
       "      <td>75174</td>\n",
       "      <td>1</td>\n",
       "      <td>9</td>\n",
       "      <td>3</td>\n",
       "      <td>4620</td>\n",
       "      <td>1</td>\n",
       "      <td>173.0</td>\n",
       "      <td>10</td>\n",
       "      <td>2</td>\n",
       "      <td>0</td>\n",
       "      <td>1</td>\n",
       "      <td>0</td>\n",
       "    </tr>\n",
       "    <tr>\n",
       "      <th>52443</th>\n",
       "      <td>33.0</td>\n",
       "      <td>2</td>\n",
       "      <td>34475</td>\n",
       "      <td>3</td>\n",
       "      <td>6</td>\n",
       "      <td>0</td>\n",
       "      <td>928</td>\n",
       "      <td>1</td>\n",
       "      <td>218.0</td>\n",
       "      <td>166</td>\n",
       "      <td>1</td>\n",
       "      <td>1</td>\n",
       "      <td>0</td>\n",
       "      <td>0</td>\n",
       "    </tr>\n",
       "  </tbody>\n",
       "</table>\n",
       "<p>52444 rows × 14 columns</p>\n",
       "</div>"
      ],
      "text/plain": [
       "        Age  Gender  Income  Education_Level  Travel_Frequency  \\\n",
       "0      56.0       1   71477                0                 9   \n",
       "1      69.0       1   88740                3                 1   \n",
       "2      46.0       0   46562                3                 0   \n",
       "3      32.0       2   99044                2                 6   \n",
       "4      60.0       0  106583                2                 5   \n",
       "...     ...     ...     ...              ...               ...   \n",
       "52439  67.0       0   85325                3                 3   \n",
       "52440  37.0       0  110346                0                 7   \n",
       "52441  53.0       2   71080                1                 7   \n",
       "52442  40.0       0   75174                1                 9   \n",
       "52443  33.0       2   34475                3                 6   \n",
       "\n",
       "       Preferred_Activities  Vacation_Budget  Location  \\\n",
       "0                         1             2477         2   \n",
       "1                         3             4777         1   \n",
       "2                         1             1469         2   \n",
       "3                         0             1482         0   \n",
       "4                         2              516         1   \n",
       "...                     ...              ...       ...   \n",
       "52439                     0             1762         1   \n",
       "52440                     3             1676         2   \n",
       "52441                     3             3877         2   \n",
       "52442                     3             4620         1   \n",
       "52443                     0              928         1   \n",
       "\n",
       "       Proximity_to_Mountains  Proximity_to_Beaches  Favorite_Season  Pets  \\\n",
       "0                       175.0                   267                2     0   \n",
       "1                         NaN                   190                0     0   \n",
       "2                        71.0                   280                3     0   \n",
       "3                        31.0                   255                2     1   \n",
       "4                        23.0                   151                3     1   \n",
       "...                       ...                   ...              ...   ...   \n",
       "52439                    51.0                   262                0     1   \n",
       "52440                   259.0                    84                1     1   \n",
       "52441                     NaN                    27                0     0   \n",
       "52442                   173.0                    10                2     0   \n",
       "52443                   218.0                   166                1     1   \n",
       "\n",
       "       Environmental_Concerns  Preference  \n",
       "0                           1           1  \n",
       "1                           1           0  \n",
       "2                           0           1  \n",
       "3                           0           1  \n",
       "4                           1           0  \n",
       "...                       ...         ...  \n",
       "52439                       0           1  \n",
       "52440                       0           0  \n",
       "52441                       1           0  \n",
       "52442                       1           0  \n",
       "52443                       0           0  \n",
       "\n",
       "[52444 rows x 14 columns]"
      ]
     },
     "execution_count": 30,
     "metadata": {},
     "output_type": "execute_result"
    }
   ],
   "source": [
    "# Write your code here. Add as many boxes as you need.\n",
    "X = data.drop('Preference', axis=1)\n",
    "y = data['Preference']\n",
    "data_copy = data\n",
    "\n",
    "encoder= LabelEncoder()\n",
    "encoded_values = encoder.fit_transform(data_copy['Gender'])\n",
    "data_copy['Gender'] = encoded_values\n",
    "data_copy\n",
    "encoded_values2 = encoder.fit_transform(data_copy['Education_Level'])\n",
    "data_copy['Education_Level'] = encoded_values2\n",
    "data_copy\n",
    "\n",
    "encoded_values3 = encoder.fit_transform(data_copy['Preferred_Activities'])\n",
    "data_copy['Preferred_Activities'] = encoded_values3\n",
    "data_copy\n",
    "\n",
    "encoded_values4 = encoder.fit_transform(data_copy['Location'])\n",
    "data_copy['Location'] = encoded_values4\n",
    "data_copy\n",
    "\n",
    "\n",
    "encoded_values5 = encoder.fit_transform(data_copy['Favorite_Season'])\n",
    "data_copy['Favorite_Season'] = encoded_values5\n",
    "data_copy\n",
    "\n",
    "\n",
    "\n"
   ]
  },
  {
   "cell_type": "markdown",
   "metadata": {
    "id": "5slwyyhCKRo9"
   },
   "source": [
    "Explore the dataset using visualizations of your choice."
   ]
  },
  {
   "cell_type": "code",
   "execution_count": null,
   "metadata": {
    "id": "DFY6TKhGKOY4"
   },
   "outputs": [],
   "source": [
    "# Write your code here. Add as many boxes as you need."
   ]
  },
  {
   "cell_type": "markdown",
   "metadata": {
    "id": "aHu0QDOtM-mK"
   },
   "source": [
    "Check if the dataset is balanced."
   ]
  },
  {
   "cell_type": "code",
   "execution_count": null,
   "metadata": {
    "id": "y-gl5hyJM_vG"
   },
   "outputs": [],
   "source": [
    "# Write your code here. Add as many boxes as you need."
   ]
  },
  {
   "cell_type": "markdown",
   "metadata": {
    "id": "KwGjJs4rLi0P"
   },
   "source": [
    "## Detecting Missing Values\n",
    "Calculate the percentage of missing values present in each column of the dataset."
   ]
  },
  {
   "cell_type": "code",
   "execution_count": null,
   "metadata": {
    "id": "L1l_JV-nL3ND"
   },
   "outputs": [],
   "source": [
    "# Write your code here. Add as many boxes as you need."
   ]
  },
  {
   "cell_type": "markdown",
   "metadata": {
    "id": "_5n7SWKfL46j"
   },
   "source": [
    "## Understanding the Causes Behind Missing Values\n",
    "Using visualization tools such as heatmaps, and dendrograms, illustrate the interdependence between attributes with missing values. Also, visualize the distribution of the missing values within the dataset using matrices and bar charts."
   ]
  },
  {
   "cell_type": "code",
   "execution_count": null,
   "metadata": {
    "id": "Wa7uzbI5L4kL"
   },
   "outputs": [],
   "source": [
    "# Write your code here. Add as many boxes as you need."
   ]
  },
  {
   "cell_type": "markdown",
   "metadata": {
    "id": "99Gjo6KhMKqt"
   },
   "source": [
    "## Handling the Missing Values\n",
    "Handle the missing values using suitable method based on the insights obtained from the various visualizations."
   ]
  },
  {
   "cell_type": "code",
   "execution_count": null,
   "metadata": {
    "id": "urmTiMn2MKgV"
   },
   "outputs": [],
   "source": [
    "# Write your code here. Add as many boxes as you need."
   ]
  },
  {
   "cell_type": "markdown",
   "metadata": {
    "id": "tls69_PrbJKW"
   },
   "source": [
    "## Dataset Splitting\n",
    "Partition the dataset into training and testing sets with an 80:20 ratio."
   ]
  },
  {
   "cell_type": "code",
   "execution_count": null,
   "metadata": {
    "id": "PjGGGMxebeoB"
   },
   "outputs": [],
   "source": [
    "# Write your code here. Add as many boxes as you need."
   ]
  },
  {
   "cell_type": "markdown",
   "metadata": {
    "id": "qhiEJI_xJ0Bt"
   },
   "source": [
    "## Feature Scaling\n",
    "Standardize the features appropriately."
   ]
  },
  {
   "cell_type": "code",
   "execution_count": null,
   "metadata": {
    "id": "nwQFchgSKK8p"
   },
   "outputs": [],
   "source": [
    "# Write your code here. Add as many boxes as you need."
   ]
  },
  {
   "cell_type": "markdown",
   "metadata": {
    "id": "VIkAR1Hibiwr"
   },
   "source": [
    "## Model Selection"
   ]
  },
  {
   "cell_type": "markdown",
   "metadata": {
    "id": "qWn1pafKbnxH"
   },
   "source": [
    "Choose and train an approriate model for the given task."
   ]
  },
  {
   "cell_type": "code",
   "execution_count": null,
   "metadata": {
    "id": "IXFIrQthbnkb"
   },
   "outputs": [],
   "source": [
    "# Write your code here. Add as many boxes as you need."
   ]
  },
  {
   "cell_type": "markdown",
   "metadata": {
    "id": "gyXZwAVab8Cp"
   },
   "source": [
    "Use the trained model to make predictions for the test set."
   ]
  },
  {
   "cell_type": "code",
   "execution_count": null,
   "metadata": {
    "id": "EvMfVum6b_9b"
   },
   "outputs": [],
   "source": [
    "# Write your code here. Add as many boxes as you need."
   ]
  },
  {
   "cell_type": "markdown",
   "metadata": {
    "id": "3VxAvDPtcNCh"
   },
   "source": [
    "Assess the performance of the model by using different classification metrics."
   ]
  },
  {
   "cell_type": "code",
   "execution_count": null,
   "metadata": {
    "id": "V4axpktycQhp"
   },
   "outputs": [],
   "source": [
    "# Write your code here. Add as many boxes as you need."
   ]
  },
  {
   "cell_type": "markdown",
   "metadata": {
    "id": "RwnD_qSpIeXG"
   },
   "source": [
    "# Laboratory Exercise - Bonus Task (+ 2 points)"
   ]
  },
  {
   "cell_type": "markdown",
   "metadata": {
    "id": "lSTuVpyYd2is"
   },
   "source": [
    "As part of the bonus task in this laboratory assignment, your objective is to fine-tune at least one hyper-parameter using a cross-validation with grid search. This involves systematically experimenting with various values for the hyper-parameter(s) and evaluating the model's performance using cross-validation. Upon determining the most suitable value(s) for the hyper-parameter(s), evaluate the model's performance on a test set for final assessment.\n",
    "\n",
    "Hint: Use the `GridCVSearch` from the `scikit-learn` library. Check the documentation at https://scikit-learn.org/stable/modules/generated/sklearn.model_selection.GridSearchCV.html."
   ]
  },
  {
   "cell_type": "markdown",
   "metadata": {
    "id": "yZriA4d4eWLJ"
   },
   "source": [
    "## Dataset Splitting\n",
    "Partition the dataset into training and testing sets with an 90:10 ratio."
   ]
  },
  {
   "cell_type": "code",
   "execution_count": null,
   "metadata": {
    "id": "ile-T3vmIfsm"
   },
   "outputs": [],
   "source": [
    "# Write your code here. Add as many boxes as you need."
   ]
  },
  {
   "cell_type": "markdown",
   "metadata": {
    "id": "pq6fQdFSVmXM"
   },
   "source": [
    "## Feature Scaling\n",
    "Standardize the features appropriately."
   ]
  },
  {
   "cell_type": "code",
   "execution_count": null,
   "metadata": {
    "id": "BfTeMwTpVm-H"
   },
   "outputs": [],
   "source": [
    "# Write your code here. Add as many boxes as you need."
   ]
  },
  {
   "cell_type": "markdown",
   "metadata": {
    "id": "E9myidoNgjmy"
   },
   "source": [
    "## Fine-tuning the Hyperparameters\n",
    "Experiment with various values for the chosen hyperparameter(s) and evaluate the model's performance using cross-validation."
   ]
  },
  {
   "cell_type": "code",
   "execution_count": null,
   "metadata": {
    "id": "Vb5WJwEggm1f"
   },
   "outputs": [],
   "source": [
    "# Write your code here. Add as many boxes as you need."
   ]
  },
  {
   "cell_type": "markdown",
   "metadata": {
    "id": "OzxTQJABiWAp"
   },
   "source": [
    "## Final Assessment of the Model Performance\n",
    "Upon determining the most suitable hyperparameter(s), evaluate the model's performance on a test set for final assessment."
   ]
  },
  {
   "cell_type": "code",
   "execution_count": null,
   "metadata": {
    "id": "oK__muPhicCr"
   },
   "outputs": [],
   "source": [
    "# Write your code here. Add as many boxes as you need."
   ]
  }
 ],
 "metadata": {
  "colab": {
   "provenance": []
  },
  "kernelspec": {
   "display_name": "Python 3 (ipykernel)",
   "language": "python",
   "name": "python3"
  },
  "language_info": {
   "codemirror_mode": {
    "name": "ipython",
    "version": 3
   },
   "file_extension": ".py",
   "mimetype": "text/x-python",
   "name": "python",
   "nbconvert_exporter": "python",
   "pygments_lexer": "ipython3",
   "version": "3.13.0"
  }
 },
 "nbformat": 4,
 "nbformat_minor": 4
}
